{
  "nbformat": 4,
  "nbformat_minor": 0,
  "metadata": {
    "colab": {
      "name": "2020-10-04-item-based-CF.ipynb",
      "provenance": [],
      "private_outputs": true,
      "collapsed_sections": []
    },
    "kernelspec": {
      "name": "python3",
      "display_name": "Python 3"
    }
  },
  "cells": [
    {
      "cell_type": "code",
      "metadata": {
        "id": "XaOf4LJRkAHv"
      },
      "source": [
        "import zipfile\n",
        "from google.colab import drive\n",
        "\n",
        "# 구글 드라이브 마운트\n",
        "drive.mount('/content/drive/')\n",
        "\n",
        "# Kaggle MovieLens zip 파일로 업로드\n",
        "zip_ref = zipfile.ZipFile(\"/content/drive/My Drive/Colab Notebooks/data/movieLens.zip\", 'r')\n",
        "\n",
        "# zip 파일 저장\n",
        "zip_ref.extractall(\"/tmp\")\n",
        "zip_ref.close()\n",
        "\n",
        "# zip 파일 내 목록 확인\n",
        "import os\n",
        "arr = os.listdir('/tmp')\n",
        "print(arr)"
      ],
      "execution_count": null,
      "outputs": []
    },
    {
      "cell_type": "code",
      "metadata": {
        "id": "AoNp1-MckzaX"
      },
      "source": [
        "import pandas as pd\n",
        "# rating 데이터\n",
        "rating = pd.read_csv('/tmp/rating.csv')\n",
        "rating.drop('timestamp', axis=1, inplace=True)\n",
        "rating.head()"
      ],
      "execution_count": null,
      "outputs": []
    },
    {
      "cell_type": "code",
      "metadata": {
        "id": "eJDc8dN2k9tU"
      },
      "source": [
        "# movie 데이터\n",
        "movie = pd.read_csv('/tmp/movie.csv')\n",
        "movie.head()"
      ],
      "execution_count": null,
      "outputs": []
    },
    {
      "cell_type": "code",
      "metadata": {
        "id": "maV9XYDglQB0"
      },
      "source": [
        "user_movie_rating = pd.merge(rating, movie, on='movieId')\n",
        "user_movie_rating.head()"
      ],
      "execution_count": null,
      "outputs": []
    },
    {
      "cell_type": "code",
      "metadata": {
        "id": "yNh2gUsGnn2N"
      },
      "source": [
        "# 데이터가 커서 절반만\n",
        "user_movie_rating = user_movie_rating[:len(user_movie_rating)//2]"
      ],
      "execution_count": null,
      "outputs": []
    },
    {
      "cell_type": "code",
      "metadata": {
        "id": "dB6DErbHlYa4"
      },
      "source": [
        "movie_user_rating = user_movie_rating.pivot_table(values='rating', index='title', columns='userId').fillna(0)\n",
        "movie_user_rating.head()"
      ],
      "execution_count": null,
      "outputs": []
    },
    {
      "cell_type": "code",
      "metadata": {
        "id": "3Qs8fUEBlyuT"
      },
      "source": [
        "user_movie_rating = user_movie_rating.pivot_table(values='rating', index='userId', columns='title').fillna(0)\n",
        "user_movie_rating.head()"
      ],
      "execution_count": null,
      "outputs": []
    },
    {
      "cell_type": "code",
      "metadata": {
        "id": "x7_vUuR5n-h7"
      },
      "source": [
        "from sklearn.metrics.pairwise import cosine_similarity\n",
        "item_based_collabor = cosine_similarity(movie_user_rating)\n",
        "item_based_collabor"
      ],
      "execution_count": null,
      "outputs": []
    },
    {
      "cell_type": "code",
      "metadata": {
        "id": "_p3zTQaQo4uA"
      },
      "source": [
        "item_based_collabor = pd.DataFrame(data=item_based_collabor, index=movie_user_rating.index, columns=movie_user_rating.index)\n",
        "item_based_collabor.head()"
      ],
      "execution_count": null,
      "outputs": []
    },
    {
      "cell_type": "code",
      "metadata": {
        "id": "iYShrOsSpGnC"
      },
      "source": [
        "def get_item_based_collabor(title):\n",
        "    return item_based_collabor[title].sort_values(ascending=False)[:6]  \n",
        "get_item_based_collabor('Godfather, The (1972)')"
      ],
      "execution_count": null,
      "outputs": []
    }
  ]
}